{
 "cells": [
  {
   "attachments": {},
   "cell_type": "markdown",
   "metadata": {},
   "source": [
    "# My Pythonic Vault\n",
    "\n",
    "## Topic: Variables\n",
    "### Problem: Swapping variables\n",
    "Write a program that switches the values stored in two input variables `a` and `b`. \n",
    "\n",
    "### Solutions:"
   ]
  },
  {
   "cell_type": "code",
   "execution_count": null,
   "metadata": {},
   "outputs": [],
   "source": [
    "# Run this cell to Input variables\n",
    "\n",
    "a = input(\"Enter value for a: \")\n",
    "b = input(\"Enter value for b: \")"
   ]
  },
  {
   "attachments": {},
   "cell_type": "markdown",
   "metadata": {},
   "source": [
    "#### 1.  Using a temporary variable (any type of value):"
   ]
  },
  {
   "cell_type": "code",
   "execution_count": null,
   "metadata": {},
   "outputs": [],
   "source": [
    "temp = a\n",
    "a = b\n",
    "b = temp\n",
    "\n",
    "print(\"After swapping using temporary variable: a =\", a, \"and b =\", b)"
   ]
  },
  {
   "attachments": {},
   "cell_type": "markdown",
   "metadata": {},
   "source": [
    "- Note 1: This solution is the simplest and most straightforward approach. We simply store the value of variable `a` in a temporary variable `temp`, then assign the value of `b` to `a`, and finally assign the value of `temp` to `b`. The values of `a` and `b` are swapped."
   ]
  },
  {
   "attachments": {},
   "cell_type": "markdown",
   "metadata": {},
   "source": [
    "---"
   ]
  },
  {
   "attachments": {},
   "cell_type": "markdown",
   "metadata": {},
   "source": [
    "### 2.  Using a tuple (any type of value):"
   ]
  },
  {
   "cell_type": "code",
   "execution_count": null,
   "metadata": {},
   "outputs": [],
   "source": [
    "a, b = b, a\n",
    "\n",
    "print(\"After swapping using a tuple: a =\", a, \"and b =\", b)"
   ]
  },
  {
   "attachments": {},
   "cell_type": "markdown",
   "metadata": {},
   "source": [
    "- Note 2: This solution uses [Python Tuple Unpacking](https://stackabuse.com/unpacking-in-python-beyond-parallel-assignment/), a Python feature that allows us to assign multiple variables in a single line.\n",
    "We create a tuple containing `a` and `b`, and then unpack the tuple into variables `b` and `a`, respectively. This effectively swaps the values of `a` and `b`."
   ]
  },
  {
   "attachments": {},
   "cell_type": "markdown",
   "metadata": {},
   "source": [
    "---"
   ]
  },
  {
   "attachments": {},
   "cell_type": "markdown",
   "metadata": {},
   "source": [
    "### 3.  Using arithmetic operations (it works only for integer values):\n"
   ]
  },
  {
   "cell_type": "code",
   "execution_count": null,
   "metadata": {},
   "outputs": [],
   "source": [
    "a = int(a)\n",
    "b = int(b)\n",
    "\n",
    "a = a + b\n",
    "b = a - b\n",
    "a = a - b\n",
    "\n",
    "print(\"After swapping using arithmetic operations: a =\", a, \"and b =\", b)"
   ]
  },
  {
   "attachments": {},
   "cell_type": "markdown",
   "metadata": {},
   "source": [
    "- Note 3: This solution relies on arithmetic operations to swap the values of a and b.\n",
    "We add a and b, and store the result in a. Then we subtract b from the new value of a to get the original value of a, and store it in b. Finally, we subtract the original value of b from the new value of a to get the original value of b, and store it in a. The values of a and b are swapped."
   ]
  },
  {
   "attachments": {},
   "cell_type": "markdown",
   "metadata": {},
   "source": [
    "---"
   ]
  },
  {
   "attachments": {},
   "cell_type": "markdown",
   "metadata": {},
   "source": [
    "### 4.  Using XOR bitwise operation (it works only for integer values):"
   ]
  },
  {
   "cell_type": "code",
   "execution_count": null,
   "metadata": {},
   "outputs": [],
   "source": [
    "a = int(a)\n",
    "b = int(b)\n",
    "\n",
    "a = a ^ b\n",
    "b = a ^ b\n",
    "a = a ^ b\n",
    "\n",
    "print(\"After swapping using XOR bitwise operation: a =\", a, \"and b =\", b)"
   ]
  },
  {
   "attachments": {},
   "cell_type": "markdown",
   "metadata": {},
   "source": [
    "- This solution uses the [Ptyhon XOR bitwise operator](https://www.scaler.com/topics/xor-in-python/) (`^`) to swap the values of a and b. We perform the XOR operation on a and b, and store the result in a. Then we perform the XOR operation again on the new value of a and the original value of b, and store the result in b. Finally, we perform the XOR operation again on the new value of b and the original value of a, and store the result in a. The values of a and b are swapped."
   ]
  },
  {
   "attachments": {},
   "cell_type": "markdown",
   "metadata": {},
   "source": [
    "> **Warning:**\n",
    "> Please keep in mind that some of these solutions may not be suitable for certain scenarios, and it's always important to consider the limitations and edge cases of each approach before implementing them."
   ]
  }
 ],
 "metadata": {
  "kernelspec": {
   "display_name": "Python 3",
   "language": "python",
   "name": "python3"
  },
  "language_info": {
   "codemirror_mode": {
    "name": "ipython",
    "version": 3
   },
   "file_extension": ".py",
   "mimetype": "text/x-python",
   "name": "python",
   "nbconvert_exporter": "python",
   "pygments_lexer": "ipython3",
   "version": "3.11.2"
  },
  "orig_nbformat": 4
 },
 "nbformat": 4,
 "nbformat_minor": 2
}
